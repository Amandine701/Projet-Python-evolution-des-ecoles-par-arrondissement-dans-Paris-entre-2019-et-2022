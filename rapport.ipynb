{
 "cells": [
  {
   "cell_type": "markdown",
   "metadata": {},
   "source": [
    "# Evolution de la population scolaire et de la population totale par arrondissement entre 2019 et 2021\n",
    "### Problématique : Est-ce que l'évolution de la démographie des écoles est en accord avec évolution de la population (par classe d'âge) ?\n",
    "\n",
    "Claire du Campe de Rosamel, Benoit Nallet, Amandine Perret\n",
    "\n",
    "## 1. Introduction\n",
    "\n",
    "\n",
    "\n",
    "Avant de commnecer l'analyse on aura besoin des packages suivants : "
   ]
  },
  {
   "cell_type": "code",
   "execution_count": null,
   "metadata": {},
   "outputs": [],
   "source": [
    "!pip install unidecode\n",
    "!pip install py7zr geopandas openpyxl tqdm s3fs \n",
    "!pip install PyYAML xlrd\n",
    "!pip install git+https://github.com/inseefrlab/cartiflette\n",
    "!pip install urllib3==1.26.5"
   ]
  },
  {
   "cell_type": "code",
   "execution_count": null,
   "metadata": {},
   "outputs": [],
   "source": [
    "import pandas as pd\n",
    "import zipfile\n",
    "import requests\n",
    "import os\n",
    "from io import BytesIO\n",
    "import matplotlib.pyplot as plt\n",
    "import numpy as np\n",
    "from unidecode import unidecode \n",
    "import matplotlib.ticker as mticker\n",
    "import geopandas as gpd\n",
    "from cartiflette import carti_download\n"
   ]
  },
  {
   "cell_type": "markdown",
   "metadata": {},
   "source": [
    "## 2. Collecte et nettoyage des données \n",
    "\n",
    "L'analyse se fait à partir des plusieurs bases de données. Une première relative aux effectifs scolaires disponibles à l'url XX recensant pour toute la France le nombre d'élève par classe par école. Nous avons donc réduit l'étendue de la base de données aux seules écoles dans Paris intra-muros (dont le code postal commence par 75). Une deuxième partie des données est issue du recensement fait par l'Insee. Plusieurs bases de données ont été nécessaires : la base logement pour comptabiliser la population habitant effectivement dans chaque arrondissement, et la base XY permettant d'avoir des effectifs de population par tranche d'âge (information qu'il n'était pas possible de retrouver à partir de la base logement étant donnée la construction des variables). \n",
    "\n",
    "Les différentes bases de données sont importées directement depuis leur adresse internet et sont ensuite netoyées dans le script \"import_data.py\" que l'on importe ci-dessous. "
   ]
  },
  {
   "cell_type": "code",
   "execution_count": null,
   "metadata": {},
   "outputs": [],
   "source": [
    "from scripts import import_data"
   ]
  },
  {
   "cell_type": "code",
   "execution_count": null,
   "metadata": {},
   "outputs": [],
   "source": [
    "import_data.df_ages_2019.columns"
   ]
  },
  {
   "cell_type": "markdown",
   "metadata": {},
   "source": [
    "## 3. Visualisation \n",
    "\n",
    "L'idée est ici de montrer des graphiques et des cartes sur ce qu'on a fait. Peut être rajouter qq stats descriptives. "
   ]
  },
  {
   "cell_type": "code",
   "execution_count": null,
   "metadata": {},
   "outputs": [],
   "source": [
    "from scripts import stats_descr_effectif"
   ]
  },
  {
   "cell_type": "markdown",
   "metadata": {},
   "source": [
    "Exemples pour montrer des tableaux présents dans les scripts : `nom_du_script.nom_du_tableau`\n",
    "Exemple pour montrer des graphiques enregistrés dans graphs/"
   ]
  },
  {
   "cell_type": "code",
   "execution_count": null,
   "metadata": {},
   "outputs": [],
   "source": [
    "print(stats_descr_effectif.table_pertes_df)"
   ]
  },
  {
   "cell_type": "code",
   "execution_count": null,
   "metadata": {},
   "outputs": [],
   "source": [
    "import matplotlib.image as mpimg\n",
    "plt.figure(figsize=(10, 6))\n",
    "plt.imshow(mpimg.imread(\"graphs/nb_élève_par_annee.png\"))\n",
    "plt.axis(\"off\")"
   ]
  },
  {
   "cell_type": "markdown",
   "metadata": {},
   "source": [
    "### A. L'évolution de la population à Paris par arrondissement entre 2019 et 2021\n",
    "#### a. L'évolution globale \n",
    "\n",
    "#### b. Focus sur la pyramide des âges \n",
    "\n",
    "### B. L'évolution des effectifs scolaires par arrondissement entre 2019 et 2021\n",
    "#### a. Au global \n",
    "\n",
    "#### b. La population en primaire\n",
    "\n",
    "#### c. La population en maternelle "
   ]
  },
  {
   "cell_type": "code",
   "execution_count": null,
   "metadata": {},
   "outputs": [],
   "source": [
    "%matplotlib inline\n",
    "from scripts import stats_descr_recensement"
   ]
  },
  {
   "cell_type": "code",
   "execution_count": 65,
   "metadata": {},
   "outputs": [],
   "source": [
    "from scripts import stats_ages"
   ]
  },
  {
   "cell_type": "markdown",
   "metadata": {},
   "source": [
    "`Pour l'instant mes cellules tournent, les scripts fonctionnent et on peut normalement récupérer les graphiques et des bases de données comme dans les exemples plus haut`\n",
    "\n",
    "%matplotlib inline permet que quand le script est importé, tous les graphiques ne s'affichent pas"
   ]
  },
  {
   "cell_type": "markdown",
   "metadata": {},
   "source": [
    "## 4. Modelisation \n",
    "\n",
    "Ici les regressions d'Amandine "
   ]
  },
  {
   "cell_type": "markdown",
   "metadata": {},
   "source": [
    "## 5. Conclusion\n"
   ]
  },
  {
   "cell_type": "markdown",
   "metadata": {},
   "source": []
  }
 ],
 "metadata": {
  "kernelspec": {
   "display_name": "base",
   "language": "python",
   "name": "python3"
  },
  "language_info": {
   "codemirror_mode": {
    "name": "ipython",
    "version": 3
   },
   "file_extension": ".py",
   "mimetype": "text/x-python",
   "name": "python",
   "nbconvert_exporter": "python",
   "pygments_lexer": "ipython3",
   "version": "3.12.7"
  }
 },
 "nbformat": 4,
 "nbformat_minor": 2
}
