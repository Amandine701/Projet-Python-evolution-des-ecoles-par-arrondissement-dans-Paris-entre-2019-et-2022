{
 "cells": [
  {
   "cell_type": "markdown",
   "metadata": {},
   "source": [
    "# L'évolution de la population scolaire et de la population totale à Paris entre 2019 et 2021, par arrondissement \n",
    "### Problématique : Est-ce que l'évolution de la démographie des écoles est en accord avec évolution de la population (par classe d'âge) ?\n",
    "\n",
    "Claire du Campe de Rosamel, Benoît Nallet, Amandine Perret\n",
    "\n",
    "## 1. Introduction\n",
    "\n",
    "\n",
    "\n",
    "Avant de commencer l'analyse on aura besoin des packages suivants : "
   ]
  },
  {
   "cell_type": "code",
   "execution_count": null,
   "metadata": {},
   "outputs": [],
   "source": [
    "!pip install unidecode\n",
    "!pip install py7zr geopandas openpyxl tqdm s3fs \n",
    "!pip install PyYAML xlrd\n",
    "!pip install git+https://github.com/inseefrlab/cartiflette\n",
    "!pip install urllib3==1.26.5\n",
    "!pip install prettytable"
   ]
  },
  {
   "cell_type": "code",
   "execution_count": null,
   "metadata": {},
   "outputs": [],
   "source": [
    "import pandas as pd\n",
    "import zipfile\n",
    "import requests\n",
    "import os\n",
    "from io import BytesIO\n",
    "import matplotlib.pyplot as plt\n",
    "import matplotlib.image as mpimg\n",
    "import numpy as np\n",
    "from unidecode import unidecode \n",
    "import matplotlib.ticker as mticker\n",
    "import geopandas as gpd\n",
    "from cartiflette import carti_download"
   ]
  },
  {
   "cell_type": "markdown",
   "metadata": {},
   "source": [
    "Quelques définitions :\n",
    "Les unités statistiques de notre étude sont :\n",
    "\n",
    "- la population en logement ordinaire et en résidence principale,\n",
    "- la population scolaire en école primaire (maternelle et élémentaire).\n",
    "\n",
    "Il est possible qu'un élève soit scolarisé dans un autre arrondissement que celui où il réside. Il faudra donc distinguer la populaire scolaire dénombrée au niveau de son lieu de résidence principale de celle dénombrée au niveau de son lieu de scolarisation.\n",
    "\n",
    "Le champ de l'étude est restreint à la ville de Paris pour les années 2019 à 2021."
   ]
  },
  {
   "cell_type": "markdown",
   "metadata": {},
   "source": [
    "## 2. Collecte et nettoyage des données \n",
    "\n",
    "Notre analyse se fait à partir des plusieurs bases de données publique issues de la Statistique publique et disponible directement sur le site internet de l'Insee.\n",
    " \n",
    "Les effectifs scolaires sont disponibles à l'url XX recensant pour toute la France le nombre d'élèves par classe et par école. Nous avons donc réduit l'étendue de la base de données aux seules écoles dans Paris intra-muros (dont le code postal commence par 75). \n",
    "\n",
    "Une deuxième partie des données est issue du recensement fait par l'Insee. Plusieurs bases de données ont été nécessaires : la base logement pour comptabiliser la population habitant effectivement dans chaque arrondissement.\n",
    "\n",
    "Enfin la base XY renseigne les effectifs de population par tranche d'âge.\n",
    "\n",
    "Les différentes bases de données sont importées directement depuis leur adresse internet et sont ensuite nettoyées dans le script \"import_data.py\" ci-dessous."
   ]
  },
  {
   "cell_type": "code",
   "execution_count": null,
   "metadata": {},
   "outputs": [],
   "source": [
    "from scripts import import_data"
   ]
  },
  {
   "cell_type": "markdown",
   "metadata": {},
   "source": [
    "## 3. Quels constats /!\\ A la fin il faudra enlever les print du script\n",
    "\n",
    "Depuis la crise sanitaire la ville de Paris a perdu des habitants dans un contexte de vieillissement de la population.\n",
    "\n",
    "Ces pertes sont concentrées dans le Nord-Est parisien et on retrouve la même géographie de perte pour la population par arrondissement de scolarisation.\n",
    "\n",
    "Pourtant les fermetures de classes/d'écoles se sont concentrées dans XXXZZZ.\n"
   ]
  },
  {
   "cell_type": "code",
   "execution_count": null,
   "metadata": {},
   "outputs": [],
   "source": [
    "from scripts import stats_descr_recensement"
   ]
  },
  {
   "cell_type": "code",
   "execution_count": null,
   "metadata": {},
   "outputs": [],
   "source": [
    "from scripts import stats_descr_effectif ;"
   ]
  },
  {
   "cell_type": "markdown",
   "metadata": {},
   "source": [
    "### A. L'évolution de la population à Paris par arrondissement entre 2019 et 2021\n",
    "#### a. L'évolution globale "
   ]
  },
  {
   "cell_type": "code",
   "execution_count": null,
   "metadata": {},
   "outputs": [],
   "source": [
    "print(\"Tableau de l'évolution globale de la population en résidence principale parisienne\")\n",
    "print(stats_descr_recensement.pop_totale)"
   ]
  },
  {
   "cell_type": "code",
   "execution_count": null,
   "metadata": {},
   "outputs": [],
   "source": [
    "import matplotlib.pyplot as plt\n",
    "import matplotlib.image as mpimg\n",
    "plt.figure(figsize=(10, 6))\n",
    "plt.imshow(mpimg.imread(\"graphs/carte_evol_population_niveau.png\"))\n",
    "plt.axis(\"off\")\n",
    "print(\"attention légende fausse\")"
   ]
  },
  {
   "cell_type": "code",
   "execution_count": null,
   "metadata": {},
   "outputs": [],
   "source": [
    "plt.figure(figsize=(10, 6))\n",
    "plt.imshow(mpimg.imread(\"graphs/carte_evol_population_pourcentage.png\"))\n",
    "plt.axis(\"off\")\n",
    "print(\"attention légende fausse\")"
   ]
  },
  {
   "cell_type": "markdown",
   "metadata": {},
   "source": [
    "\n",
    "#### b. Focus sur la pyramide des âges \n",
    "\n"
   ]
  },
  {
   "cell_type": "code",
   "execution_count": null,
   "metadata": {},
   "outputs": [],
   "source": [
    "from scripts import stats_ages"
   ]
  },
  {
   "cell_type": "code",
   "execution_count": null,
   "metadata": {},
   "outputs": [],
   "source": [
    "plt.figure(figsize=(10, 6))\n",
    "plt.imshow(mpimg.imread(\"graphs/Pyramide_Paris_ecart1921.png\"))\n",
    "plt.title(\"Evolution de la pyramide des âges entre 2019 et 2021\")\n",
    "plt.axis(\"off\")\n",
    "print(\"attention légende fausse\")"
   ]
  },
  {
   "cell_type": "markdown",
   "metadata": {},
   "source": [
    "### B. L'évolution des effectifs scolaires par arrondissement entre 2019 et 2021\n",
    "#### a. Au global \n"
   ]
  },
  {
   "cell_type": "code",
   "execution_count": null,
   "metadata": {},
   "outputs": [],
   "source": [
    "print(\"Tableau de la baisse du nombre d'élèves\")\n",
    "print(stats_descr_effectif.table_pertes_df)"
   ]
  },
  {
   "cell_type": "code",
   "execution_count": null,
   "metadata": {},
   "outputs": [],
   "source": [
    "plt.figure(figsize=(10, 6))\n",
    "plt.imshow(mpimg.imread(\"graphs/carte_evol_effectifs_niveau.png\"))\n",
    "plt.axis(\"off\")"
   ]
  },
  {
   "cell_type": "code",
   "execution_count": null,
   "metadata": {},
   "outputs": [],
   "source": [
    "plt.figure(figsize=(10, 6))\n",
    "plt.imshow(mpimg.imread(\"graphs/carte_evol_effectifs_pourcentage.png\"))\n",
    "plt.axis(\"off\")\n",
    "print(\"ca serait utile de mettre le chiffre associé à la borne de droite de la légende\")"
   ]
  },
  {
   "cell_type": "markdown",
   "metadata": {},
   "source": [
    "\n",
    "#### b. La population en primaire\n",
    "\n",
    "#### c. La population en maternelle "
   ]
  },
  {
   "cell_type": "markdown",
   "metadata": {},
   "source": [
    "`Pour l'instant mes cellules tournent, les scripts fonctionnent et on peut normalement récupérer les graphiques et des bases de données comme dans les exemples plus haut`\n",
    "\n",
    "%matplotlib inline permet que quand le script est importé, tous les graphiques ne s'affichent pas"
   ]
  },
  {
   "cell_type": "markdown",
   "metadata": {},
   "source": [
    "## 4. Modelisation \n",
    "\n",
    "Ici les regressions d'Amandine "
   ]
  },
  {
   "cell_type": "code",
   "execution_count": null,
   "metadata": {},
   "outputs": [],
   "source": []
  },
  {
   "cell_type": "markdown",
   "metadata": {},
   "source": [
    "## 5. Conclusion\n"
   ]
  },
  {
   "cell_type": "markdown",
   "metadata": {},
   "source": []
  }
 ],
 "metadata": {
  "kernelspec": {
   "display_name": "base",
   "language": "python",
   "name": "python3"
  },
  "language_info": {
   "codemirror_mode": {
    "name": "ipython",
    "version": 3
   },
   "file_extension": ".py",
   "mimetype": "text/x-python",
   "name": "python",
   "nbconvert_exporter": "python",
   "pygments_lexer": "ipython3",
   "version": "3.12.7"
  }
 },
 "nbformat": 4,
 "nbformat_minor": 2
}
