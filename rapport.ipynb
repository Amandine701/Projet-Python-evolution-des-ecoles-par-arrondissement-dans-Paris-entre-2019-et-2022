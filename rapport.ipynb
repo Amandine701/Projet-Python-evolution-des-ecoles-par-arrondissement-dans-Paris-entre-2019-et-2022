{
 "cells": [
  {
   "cell_type": "markdown",
   "metadata": {},
   "source": [
    "# L'évolution de la population scolaire et de la population totale à Paris entre 2019 et 2021, par arrondissement \n",
    "### Problématique : Est-ce que l'évolution de la démographie des écoles est en accord avec évolution de la population (par classe d'âge) ?\n",
    "\n",
    "Claire du Campe de Rosamel, Benoît Nallet, Amandine Perret\n",
    "\n",
    "## 1. Introduction\n",
    "\n",
    "\n",
    "\n",
    "Avant de commencer l'analyse on aura besoin des packages suivants : "
   ]
  },
  {
   "cell_type": "code",
   "execution_count": 2,
   "metadata": {},
   "outputs": [
    {
     "name": "stdout",
     "output_type": "stream",
     "text": [
      "Requirement already satisfied: unidecode in /opt/conda/lib/python3.12/site-packages (1.3.8)\n",
      "Requirement already satisfied: py7zr in /opt/conda/lib/python3.12/site-packages (0.20.8)\n",
      "Requirement already satisfied: geopandas in /opt/conda/lib/python3.12/site-packages (1.0.1)\n",
      "Requirement already satisfied: openpyxl in /opt/conda/lib/python3.12/site-packages (3.1.5)\n",
      "Requirement already satisfied: tqdm in /opt/conda/lib/python3.12/site-packages (4.67.1)\n",
      "Requirement already satisfied: s3fs in /opt/conda/lib/python3.12/site-packages (2023.12.2)\n",
      "Requirement already satisfied: texttable in /opt/conda/lib/python3.12/site-packages (from py7zr) (1.7.0)\n",
      "Requirement already satisfied: pycryptodomex>=3.16.0 in /opt/conda/lib/python3.12/site-packages (from py7zr) (3.21.0)\n",
      "Requirement already satisfied: pyzstd>=0.15.9 in /opt/conda/lib/python3.12/site-packages (from py7zr) (0.16.2)\n",
      "Requirement already satisfied: pyppmd<1.2.0,>=1.1.0 in /opt/conda/lib/python3.12/site-packages (from py7zr) (1.1.0)\n",
      "Requirement already satisfied: pybcj<1.1.0,>=1.0.0 in /opt/conda/lib/python3.12/site-packages (from py7zr) (1.0.2)\n",
      "Requirement already satisfied: multivolumefile>=0.2.3 in /opt/conda/lib/python3.12/site-packages (from py7zr) (0.2.3)\n",
      "Requirement already satisfied: inflate64<1.1.0,>=1.0.0 in /opt/conda/lib/python3.12/site-packages (from py7zr) (1.0.0)\n",
      "Requirement already satisfied: brotli>=1.1.0 in /opt/conda/lib/python3.12/site-packages (from py7zr) (1.1.0)\n",
      "Requirement already satisfied: psutil in /opt/conda/lib/python3.12/site-packages (from py7zr) (6.1.0)\n",
      "Requirement already satisfied: numpy>=1.22 in /opt/conda/lib/python3.12/site-packages (from geopandas) (2.2.0)\n",
      "Requirement already satisfied: pyogrio>=0.7.2 in /opt/conda/lib/python3.12/site-packages (from geopandas) (0.10.0)\n",
      "Requirement already satisfied: packaging in /opt/conda/lib/python3.12/site-packages (from geopandas) (24.2)\n",
      "Requirement already satisfied: pandas>=1.4.0 in /opt/conda/lib/python3.12/site-packages (from geopandas) (2.2.3)\n",
      "Requirement already satisfied: pyproj>=3.3.0 in /opt/conda/lib/python3.12/site-packages (from geopandas) (3.7.0)\n",
      "Requirement already satisfied: shapely>=2.0.0 in /opt/conda/lib/python3.12/site-packages (from geopandas) (2.0.6)\n",
      "Requirement already satisfied: et-xmlfile in /opt/conda/lib/python3.12/site-packages (from openpyxl) (2.0.0)\n",
      "Requirement already satisfied: aiobotocore<3.0.0,>=2.5.4 in /opt/conda/lib/python3.12/site-packages (from s3fs) (2.15.2)\n",
      "Requirement already satisfied: fsspec==2023.12.2 in /opt/conda/lib/python3.12/site-packages (from s3fs) (2023.12.2)\n",
      "Requirement already satisfied: aiohttp!=4.0.0a0,!=4.0.0a1 in /opt/conda/lib/python3.12/site-packages (from s3fs) (3.11.10)\n",
      "Requirement already satisfied: botocore<1.35.37,>=1.35.16 in /opt/conda/lib/python3.12/site-packages (from aiobotocore<3.0.0,>=2.5.4->s3fs) (1.35.36)\n",
      "Requirement already satisfied: wrapt<2.0.0,>=1.10.10 in /opt/conda/lib/python3.12/site-packages (from aiobotocore<3.0.0,>=2.5.4->s3fs) (1.17.0)\n",
      "Requirement already satisfied: aioitertools<1.0.0,>=0.5.1 in /opt/conda/lib/python3.12/site-packages (from aiobotocore<3.0.0,>=2.5.4->s3fs) (0.12.0)\n",
      "Requirement already satisfied: aiohappyeyeballs>=2.3.0 in /opt/conda/lib/python3.12/site-packages (from aiohttp!=4.0.0a0,!=4.0.0a1->s3fs) (2.4.4)\n",
      "Requirement already satisfied: aiosignal>=1.1.2 in /opt/conda/lib/python3.12/site-packages (from aiohttp!=4.0.0a0,!=4.0.0a1->s3fs) (1.3.1)\n",
      "Requirement already satisfied: attrs>=17.3.0 in /opt/conda/lib/python3.12/site-packages (from aiohttp!=4.0.0a0,!=4.0.0a1->s3fs) (24.2.0)\n",
      "Requirement already satisfied: frozenlist>=1.1.1 in /opt/conda/lib/python3.12/site-packages (from aiohttp!=4.0.0a0,!=4.0.0a1->s3fs) (1.5.0)\n",
      "Requirement already satisfied: multidict<7.0,>=4.5 in /opt/conda/lib/python3.12/site-packages (from aiohttp!=4.0.0a0,!=4.0.0a1->s3fs) (6.1.0)\n",
      "Requirement already satisfied: propcache>=0.2.0 in /opt/conda/lib/python3.12/site-packages (from aiohttp!=4.0.0a0,!=4.0.0a1->s3fs) (0.2.1)\n",
      "Requirement already satisfied: yarl<2.0,>=1.17.0 in /opt/conda/lib/python3.12/site-packages (from aiohttp!=4.0.0a0,!=4.0.0a1->s3fs) (1.18.3)\n",
      "Requirement already satisfied: python-dateutil>=2.8.2 in /opt/conda/lib/python3.12/site-packages (from pandas>=1.4.0->geopandas) (2.9.0.post0)\n",
      "Requirement already satisfied: pytz>=2020.1 in /opt/conda/lib/python3.12/site-packages (from pandas>=1.4.0->geopandas) (2024.1)\n",
      "Requirement already satisfied: tzdata>=2022.7 in /opt/conda/lib/python3.12/site-packages (from pandas>=1.4.0->geopandas) (2024.2)\n",
      "Requirement already satisfied: certifi in /opt/conda/lib/python3.12/site-packages (from pyogrio>=0.7.2->geopandas) (2024.8.30)\n",
      "Requirement already satisfied: jmespath<2.0.0,>=0.7.1 in /opt/conda/lib/python3.12/site-packages (from botocore<1.35.37,>=1.35.16->aiobotocore<3.0.0,>=2.5.4->s3fs) (1.0.1)\n",
      "Requirement already satisfied: urllib3!=2.2.0,<3,>=1.25.4 in /opt/conda/lib/python3.12/site-packages (from botocore<1.35.37,>=1.35.16->aiobotocore<3.0.0,>=2.5.4->s3fs) (1.26.5)\n",
      "Requirement already satisfied: six>=1.5 in /opt/conda/lib/python3.12/site-packages (from python-dateutil>=2.8.2->pandas>=1.4.0->geopandas) (1.17.0)\n",
      "Requirement already satisfied: idna>=2.0 in /opt/conda/lib/python3.12/site-packages (from yarl<2.0,>=1.17.0->aiohttp!=4.0.0a0,!=4.0.0a1->s3fs) (3.10)\n",
      "Requirement already satisfied: PyYAML in /opt/conda/lib/python3.12/site-packages (6.0.2)\n",
      "Requirement already satisfied: xlrd in /opt/conda/lib/python3.12/site-packages (2.0.1)\n",
      "Collecting git+https://github.com/inseefrlab/cartiflette\n",
      "  Cloning https://github.com/inseefrlab/cartiflette to /tmp/pip-req-build-8r7xmx9v\n",
      "  Running command git clone --filter=blob:none --quiet https://github.com/inseefrlab/cartiflette /tmp/pip-req-build-8r7xmx9v\n",
      "  Resolved https://github.com/inseefrlab/cartiflette to commit f6b0c5d049bd6dcae7b437bd931957371da24278\n",
      "  Installing build dependencies ... \u001b[?25ldone\n",
      "\u001b[?25h  Getting requirements to build wheel ... \u001b[?25ldone\n",
      "\u001b[?25h  Preparing metadata (pyproject.toml) ... \u001b[?25ldone\n",
      "\u001b[?25hRequirement already satisfied: PyYAML<7.0,>=6.0 in /opt/conda/lib/python3.12/site-packages (from cartiflette==0.0.2) (6.0.2)\n",
      "Requirement already satisfied: appdirs<2.0.0,>=1.4.4 in /opt/conda/lib/python3.12/site-packages (from cartiflette==0.0.2) (1.4.4)\n",
      "Requirement already satisfied: charset-normalizer<4.0.0,>=3.2.0 in /opt/conda/lib/python3.12/site-packages (from cartiflette==0.0.2) (3.4.0)\n",
      "Requirement already satisfied: diskcache<6.0.0,>=5.6.3 in /opt/conda/lib/python3.12/site-packages (from cartiflette==0.0.2) (5.6.3)\n",
      "Requirement already satisfied: fastexcel<0.12.0,>=0.11.6 in /opt/conda/lib/python3.12/site-packages (from cartiflette==0.0.2) (0.11.6)\n",
      "Requirement already satisfied: fiona<2.0.0,>=1.9.4.post1 in /opt/conda/lib/python3.12/site-packages (from fiona[s3]<2.0.0,>=1.9.4.post1->cartiflette==0.0.2) (1.10.1)\n",
      "Requirement already satisfied: geopandas<2.0.0,>=1.0.1 in /opt/conda/lib/python3.12/site-packages (from cartiflette==0.0.2) (1.0.1)\n",
      "Requirement already satisfied: matplotlib<4.0.0,>=3.7.1 in /opt/conda/lib/python3.12/site-packages (from cartiflette==0.0.2) (3.9.4)\n",
      "Requirement already satisfied: openpyxl<4.0.0,>=3.1.5 in /opt/conda/lib/python3.12/site-packages (from cartiflette==0.0.2) (3.1.5)\n",
      "Requirement already satisfied: owslib<0.29.0,>=0.28.1 in /opt/conda/lib/python3.12/site-packages (from cartiflette==0.0.2) (0.28.1)\n",
      "Requirement already satisfied: pandas<3.0.0,>=2.2.2 in /opt/conda/lib/python3.12/site-packages (from cartiflette==0.0.2) (2.2.3)\n",
      "Requirement already satisfied: pebble<6.0.0,>=5.0.3 in /opt/conda/lib/python3.12/site-packages (from cartiflette==0.0.2) (5.1.0)\n",
      "Requirement already satisfied: polars<2.0.0,>=1.8.1 in /opt/conda/lib/python3.12/site-packages (from cartiflette==0.0.2) (1.17.1)\n",
      "Requirement already satisfied: py7zr<0.21.0,>=0.20.4 in /opt/conda/lib/python3.12/site-packages (from cartiflette==0.0.2) (0.20.8)\n",
      "Requirement already satisfied: pyarrow<18.0.0,>=17.0.0 in /opt/conda/lib/python3.12/site-packages (from cartiflette==0.0.2) (17.0.0)\n",
      "Requirement already satisfied: python-dotenv<2.0.0,>=1.0.0 in /opt/conda/lib/python3.12/site-packages (from cartiflette==0.0.2) (1.0.1)\n",
      "Requirement already satisfied: python-magic<0.5.0,>=0.4.14 in /opt/conda/lib/python3.12/site-packages (from cartiflette==0.0.2) (0.4.27)\n",
      "Requirement already satisfied: requests<3.0.0,>=2.28.2 in /opt/conda/lib/python3.12/site-packages (from cartiflette==0.0.2) (2.32.3)\n",
      "Requirement already satisfied: requests-cache<2.0.0,>=1.1.0 in /opt/conda/lib/python3.12/site-packages (from cartiflette==0.0.2) (1.2.1)\n",
      "Requirement already satisfied: retrying<2.0.0,>=1.3.4 in /opt/conda/lib/python3.12/site-packages (from cartiflette==0.0.2) (1.3.4)\n",
      "Requirement already satisfied: s3fs<2024.0.0,>=2023.3.0 in /opt/conda/lib/python3.12/site-packages (from cartiflette==0.0.2) (2023.12.2)\n",
      "Requirement already satisfied: topojson<2.0,>=1.5 in /opt/conda/lib/python3.12/site-packages (from cartiflette==0.0.2) (1.9)\n",
      "Requirement already satisfied: unidecode<2.0.0,>=1.3.6 in /opt/conda/lib/python3.12/site-packages (from cartiflette==0.0.2) (1.3.8)\n",
      "Requirement already satisfied: urllib3<2 in /opt/conda/lib/python3.12/site-packages (from cartiflette==0.0.2) (1.26.5)\n",
      "Requirement already satisfied: xlrd<3.0.0,>=2.0.1 in /opt/conda/lib/python3.12/site-packages (from cartiflette==0.0.2) (2.0.1)\n",
      "Requirement already satisfied: attrs>=19.2.0 in /opt/conda/lib/python3.12/site-packages (from fiona<2.0.0,>=1.9.4.post1->fiona[s3]<2.0.0,>=1.9.4.post1->cartiflette==0.0.2) (24.2.0)\n",
      "Requirement already satisfied: certifi in /opt/conda/lib/python3.12/site-packages (from fiona<2.0.0,>=1.9.4.post1->fiona[s3]<2.0.0,>=1.9.4.post1->cartiflette==0.0.2) (2024.8.30)\n",
      "Requirement already satisfied: click~=8.0 in /opt/conda/lib/python3.12/site-packages (from fiona<2.0.0,>=1.9.4.post1->fiona[s3]<2.0.0,>=1.9.4.post1->cartiflette==0.0.2) (8.1.7)\n",
      "Requirement already satisfied: click-plugins>=1.0 in /opt/conda/lib/python3.12/site-packages (from fiona<2.0.0,>=1.9.4.post1->fiona[s3]<2.0.0,>=1.9.4.post1->cartiflette==0.0.2) (1.1.1)\n",
      "Requirement already satisfied: cligj>=0.5 in /opt/conda/lib/python3.12/site-packages (from fiona<2.0.0,>=1.9.4.post1->fiona[s3]<2.0.0,>=1.9.4.post1->cartiflette==0.0.2) (0.7.2)\n",
      "Requirement already satisfied: boto3>=1.3.1 in /opt/conda/lib/python3.12/site-packages (from fiona[s3]<2.0.0,>=1.9.4.post1->cartiflette==0.0.2) (1.35.36)\n",
      "Requirement already satisfied: numpy>=1.22 in /opt/conda/lib/python3.12/site-packages (from geopandas<2.0.0,>=1.0.1->cartiflette==0.0.2) (2.2.0)\n",
      "Requirement already satisfied: pyogrio>=0.7.2 in /opt/conda/lib/python3.12/site-packages (from geopandas<2.0.0,>=1.0.1->cartiflette==0.0.2) (0.10.0)\n",
      "Requirement already satisfied: packaging in /opt/conda/lib/python3.12/site-packages (from geopandas<2.0.0,>=1.0.1->cartiflette==0.0.2) (24.2)\n",
      "Requirement already satisfied: pyproj>=3.3.0 in /opt/conda/lib/python3.12/site-packages (from geopandas<2.0.0,>=1.0.1->cartiflette==0.0.2) (3.7.0)\n",
      "Requirement already satisfied: shapely>=2.0.0 in /opt/conda/lib/python3.12/site-packages (from geopandas<2.0.0,>=1.0.1->cartiflette==0.0.2) (2.0.6)\n",
      "Requirement already satisfied: contourpy>=1.0.1 in /opt/conda/lib/python3.12/site-packages (from matplotlib<4.0.0,>=3.7.1->cartiflette==0.0.2) (1.3.1)\n",
      "Requirement already satisfied: cycler>=0.10 in /opt/conda/lib/python3.12/site-packages (from matplotlib<4.0.0,>=3.7.1->cartiflette==0.0.2) (0.12.1)\n",
      "Requirement already satisfied: fonttools>=4.22.0 in /opt/conda/lib/python3.12/site-packages (from matplotlib<4.0.0,>=3.7.1->cartiflette==0.0.2) (4.55.3)\n",
      "Requirement already satisfied: kiwisolver>=1.3.1 in /opt/conda/lib/python3.12/site-packages (from matplotlib<4.0.0,>=3.7.1->cartiflette==0.0.2) (1.4.7)\n",
      "Requirement already satisfied: pillow>=8 in /opt/conda/lib/python3.12/site-packages (from matplotlib<4.0.0,>=3.7.1->cartiflette==0.0.2) (11.0.0)\n",
      "Requirement already satisfied: pyparsing>=2.3.1 in /opt/conda/lib/python3.12/site-packages (from matplotlib<4.0.0,>=3.7.1->cartiflette==0.0.2) (3.2.0)\n",
      "Requirement already satisfied: python-dateutil>=2.7 in /opt/conda/lib/python3.12/site-packages (from matplotlib<4.0.0,>=3.7.1->cartiflette==0.0.2) (2.9.0.post0)\n",
      "Requirement already satisfied: et-xmlfile in /opt/conda/lib/python3.12/site-packages (from openpyxl<4.0.0,>=3.1.5->cartiflette==0.0.2) (2.0.0)\n",
      "Requirement already satisfied: lxml in /opt/conda/lib/python3.12/site-packages (from owslib<0.29.0,>=0.28.1->cartiflette==0.0.2) (5.3.0)\n",
      "Requirement already satisfied: pytz in /opt/conda/lib/python3.12/site-packages (from owslib<0.29.0,>=0.28.1->cartiflette==0.0.2) (2024.1)\n",
      "Requirement already satisfied: tzdata>=2022.7 in /opt/conda/lib/python3.12/site-packages (from pandas<3.0.0,>=2.2.2->cartiflette==0.0.2) (2024.2)\n",
      "Requirement already satisfied: texttable in /opt/conda/lib/python3.12/site-packages (from py7zr<0.21.0,>=0.20.4->cartiflette==0.0.2) (1.7.0)\n",
      "Requirement already satisfied: pycryptodomex>=3.16.0 in /opt/conda/lib/python3.12/site-packages (from py7zr<0.21.0,>=0.20.4->cartiflette==0.0.2) (3.21.0)\n",
      "Requirement already satisfied: pyzstd>=0.15.9 in /opt/conda/lib/python3.12/site-packages (from py7zr<0.21.0,>=0.20.4->cartiflette==0.0.2) (0.16.2)\n",
      "Requirement already satisfied: pyppmd<1.2.0,>=1.1.0 in /opt/conda/lib/python3.12/site-packages (from py7zr<0.21.0,>=0.20.4->cartiflette==0.0.2) (1.1.0)\n",
      "Requirement already satisfied: pybcj<1.1.0,>=1.0.0 in /opt/conda/lib/python3.12/site-packages (from py7zr<0.21.0,>=0.20.4->cartiflette==0.0.2) (1.0.2)\n",
      "Requirement already satisfied: multivolumefile>=0.2.3 in /opt/conda/lib/python3.12/site-packages (from py7zr<0.21.0,>=0.20.4->cartiflette==0.0.2) (0.2.3)\n",
      "Requirement already satisfied: inflate64<1.1.0,>=1.0.0 in /opt/conda/lib/python3.12/site-packages (from py7zr<0.21.0,>=0.20.4->cartiflette==0.0.2) (1.0.0)\n",
      "Requirement already satisfied: brotli>=1.1.0 in /opt/conda/lib/python3.12/site-packages (from py7zr<0.21.0,>=0.20.4->cartiflette==0.0.2) (1.1.0)\n",
      "Requirement already satisfied: psutil in /opt/conda/lib/python3.12/site-packages (from py7zr<0.21.0,>=0.20.4->cartiflette==0.0.2) (6.1.0)\n",
      "Requirement already satisfied: idna<4,>=2.5 in /opt/conda/lib/python3.12/site-packages (from requests<3.0.0,>=2.28.2->cartiflette==0.0.2) (3.10)\n",
      "Requirement already satisfied: cattrs>=22.2 in /opt/conda/lib/python3.12/site-packages (from requests-cache<2.0.0,>=1.1.0->cartiflette==0.0.2) (24.1.2)\n",
      "Requirement already satisfied: platformdirs>=2.5 in /opt/conda/lib/python3.12/site-packages (from requests-cache<2.0.0,>=1.1.0->cartiflette==0.0.2) (4.3.6)\n",
      "Requirement already satisfied: url-normalize>=1.4 in /opt/conda/lib/python3.12/site-packages (from requests-cache<2.0.0,>=1.1.0->cartiflette==0.0.2) (1.4.3)\n",
      "Requirement already satisfied: six>=1.7.0 in /opt/conda/lib/python3.12/site-packages (from retrying<2.0.0,>=1.3.4->cartiflette==0.0.2) (1.17.0)\n",
      "Requirement already satisfied: aiobotocore<3.0.0,>=2.5.4 in /opt/conda/lib/python3.12/site-packages (from s3fs<2024.0.0,>=2023.3.0->cartiflette==0.0.2) (2.15.2)\n",
      "Requirement already satisfied: fsspec==2023.12.2 in /opt/conda/lib/python3.12/site-packages (from s3fs<2024.0.0,>=2023.3.0->cartiflette==0.0.2) (2023.12.2)\n",
      "Requirement already satisfied: aiohttp!=4.0.0a0,!=4.0.0a1 in /opt/conda/lib/python3.12/site-packages (from s3fs<2024.0.0,>=2023.3.0->cartiflette==0.0.2) (3.11.10)\n",
      "Requirement already satisfied: botocore<1.35.37,>=1.35.16 in /opt/conda/lib/python3.12/site-packages (from aiobotocore<3.0.0,>=2.5.4->s3fs<2024.0.0,>=2023.3.0->cartiflette==0.0.2) (1.35.36)\n",
      "Requirement already satisfied: wrapt<2.0.0,>=1.10.10 in /opt/conda/lib/python3.12/site-packages (from aiobotocore<3.0.0,>=2.5.4->s3fs<2024.0.0,>=2023.3.0->cartiflette==0.0.2) (1.17.0)\n",
      "Requirement already satisfied: aioitertools<1.0.0,>=0.5.1 in /opt/conda/lib/python3.12/site-packages (from aiobotocore<3.0.0,>=2.5.4->s3fs<2024.0.0,>=2023.3.0->cartiflette==0.0.2) (0.12.0)\n",
      "Requirement already satisfied: aiohappyeyeballs>=2.3.0 in /opt/conda/lib/python3.12/site-packages (from aiohttp!=4.0.0a0,!=4.0.0a1->s3fs<2024.0.0,>=2023.3.0->cartiflette==0.0.2) (2.4.4)\n",
      "Requirement already satisfied: aiosignal>=1.1.2 in /opt/conda/lib/python3.12/site-packages (from aiohttp!=4.0.0a0,!=4.0.0a1->s3fs<2024.0.0,>=2023.3.0->cartiflette==0.0.2) (1.3.1)\n",
      "Requirement already satisfied: frozenlist>=1.1.1 in /opt/conda/lib/python3.12/site-packages (from aiohttp!=4.0.0a0,!=4.0.0a1->s3fs<2024.0.0,>=2023.3.0->cartiflette==0.0.2) (1.5.0)\n",
      "Requirement already satisfied: multidict<7.0,>=4.5 in /opt/conda/lib/python3.12/site-packages (from aiohttp!=4.0.0a0,!=4.0.0a1->s3fs<2024.0.0,>=2023.3.0->cartiflette==0.0.2) (6.1.0)\n",
      "Requirement already satisfied: propcache>=0.2.0 in /opt/conda/lib/python3.12/site-packages (from aiohttp!=4.0.0a0,!=4.0.0a1->s3fs<2024.0.0,>=2023.3.0->cartiflette==0.0.2) (0.2.1)\n",
      "Requirement already satisfied: yarl<2.0,>=1.17.0 in /opt/conda/lib/python3.12/site-packages (from aiohttp!=4.0.0a0,!=4.0.0a1->s3fs<2024.0.0,>=2023.3.0->cartiflette==0.0.2) (1.18.3)\n",
      "Requirement already satisfied: jmespath<2.0.0,>=0.7.1 in /opt/conda/lib/python3.12/site-packages (from boto3>=1.3.1->fiona[s3]<2.0.0,>=1.9.4.post1->cartiflette==0.0.2) (1.0.1)\n",
      "Requirement already satisfied: s3transfer<0.11.0,>=0.10.0 in /opt/conda/lib/python3.12/site-packages (from boto3>=1.3.1->fiona[s3]<2.0.0,>=1.9.4.post1->cartiflette==0.0.2) (0.10.4)\n",
      "Requirement already satisfied: urllib3==1.26.5 in /opt/conda/lib/python3.12/site-packages (1.26.5)\n",
      "Requirement already satisfied: prettytable in /opt/conda/lib/python3.12/site-packages (3.12.0)\n",
      "Requirement already satisfied: wcwidth in /opt/conda/lib/python3.12/site-packages (from prettytable) (0.2.13)\n"
     ]
    }
   ],
   "source": [
    "!pip install unidecode\n",
    "!pip install py7zr geopandas openpyxl tqdm s3fs \n",
    "!pip install PyYAML xlrd\n",
    "!pip install git+https://github.com/inseefrlab/cartiflette\n",
    "!pip install urllib3==1.26.5\n",
    "!pip install prettytable"
   ]
  },
  {
   "cell_type": "code",
   "execution_count": null,
   "metadata": {},
   "outputs": [],
   "source": [
    "import pandas as pd\n",
    "import zipfile\n",
    "import requests\n",
    "import os\n",
    "from io import BytesIO\n",
    "import matplotlib.pyplot as plt\n",
    "import matplotlib.image as mpimg\n",
    "import numpy as np\n",
    "from unidecode import unidecode \n",
    "import matplotlib.ticker as mticker\n",
    "import geopandas as gpd\n",
    "from cartiflette import carti_download"
   ]
  },
  {
   "cell_type": "markdown",
   "metadata": {},
   "source": [
    "Quelques définitions :\n",
    "Les unités statistiques de notre étude sont :\n",
    "\n",
    "- la population en logement ordinaire et en résidence principale,\n",
    "- la population scolaire en école primaire (maternelle et élémentaire).\n",
    "\n",
    "Il est possible qu'un élève soit scolarisé dans un autre arrondissement que celui où il réside. Il faudra donc distinguer la populaire scolaire dénombrée au niveau de son lieu de résidence principale de celle dénombrée au niveau de son lieu de scolarisation.\n",
    "\n",
    "Le champ de l'étude est restreint à la ville de Paris pour les années 2019 à 2021."
   ]
  },
  {
   "cell_type": "markdown",
   "metadata": {},
   "source": [
    "## 2. Collecte et nettoyage des données \n",
    "\n",
    "Notre analyse se fait à partir des plusieurs bases de données publique issues de la Statistique publique et disponible directement sur le site internet de l'Insee.\n",
    " \n",
    "Les effectifs scolaires sont disponibles à l'url XX recensant pour toute la France le nombre d'élèves par classe et par école. Nous avons donc réduit l'étendue de la base de données aux seules écoles dans Paris intra-muros (dont le code postal commence par 75). \n",
    "\n",
    "Une deuxième partie des données est issue du recensement fait par l'Insee. Plusieurs bases de données ont été nécessaires : la base logement pour comptabiliser la population habitant effectivement dans chaque arrondissement.\n",
    "\n",
    "Enfin la base XY renseigne les effectifs de population par tranche d'âge.\n",
    "\n",
    "Les différentes bases de données sont importées directement depuis leur adresse internet et sont ensuite nettoyées dans le script \"import_data.py\" ci-dessous."
   ]
  },
  {
   "cell_type": "code",
   "execution_count": null,
   "metadata": {},
   "outputs": [],
   "source": [
    "from scripts import import_data"
   ]
  },
  {
   "cell_type": "markdown",
   "metadata": {},
   "source": [
    "## 3. Quels constats /!\\ A la fin il faudra enlever les print du script\n",
    "\n",
    "Depuis la crise sanitaire la ville de Paris a perdu des habitants dans un contexte de vieillissement de la population.\n",
    "\n",
    "Ces pertes sont concentrées dans le Nord-Est parisien et on retrouve la même géographie de perte pour la population par arrondissement de scolarisation.\n",
    "\n",
    "Pourtant les fermetures de classes/d'écoles se sont concentrées dans XXXZZZ.\n"
   ]
  },
  {
   "cell_type": "code",
   "execution_count": null,
   "metadata": {},
   "outputs": [],
   "source": [
    "from scripts import stats_descr_recensement"
   ]
  },
  {
   "cell_type": "code",
   "execution_count": null,
   "metadata": {},
   "outputs": [],
   "source": [
    "from scripts import stats_descr_effectif ;"
   ]
  },
  {
   "cell_type": "markdown",
   "metadata": {},
   "source": [
    "### A. L'évolution de la population à Paris par arrondissement entre 2019 et 2021\n",
    "#### a. L'évolution globale "
   ]
  },
  {
   "cell_type": "code",
   "execution_count": null,
   "metadata": {},
   "outputs": [],
   "source": [
    "print(\"Tableau de l'évolution globale de la population en résidence principale parisienne\")\n",
    "print(stats_descr_recensement.pop_totale)"
   ]
  },
  {
   "cell_type": "code",
   "execution_count": null,
   "metadata": {},
   "outputs": [],
   "source": [
    "import matplotlib.pyplot as plt\n",
    "import matplotlib.image as mpimg\n",
    "plt.figure(figsize=(10, 6))\n",
    "plt.imshow(mpimg.imread(\"graphs/carte_evol_population_niveau.png\"))\n",
    "plt.axis(\"off\")\n",
    "print(\"attention légende fausse\")"
   ]
  },
  {
   "cell_type": "code",
   "execution_count": null,
   "metadata": {},
   "outputs": [],
   "source": [
    "plt.figure(figsize=(10, 6))\n",
    "plt.imshow(mpimg.imread(\"graphs/carte_evol_population_pourcentage.png\"))\n",
    "plt.axis(\"off\")\n",
    "print(\"attention légende fausse\")"
   ]
  },
  {
   "cell_type": "markdown",
   "metadata": {},
   "source": [
    "\n",
    "#### b. Focus sur la pyramide des âges \n",
    "\n"
   ]
  },
  {
   "cell_type": "code",
   "execution_count": null,
   "metadata": {},
   "outputs": [],
   "source": [
    "from scripts import stats_ages"
   ]
  },
  {
   "cell_type": "code",
   "execution_count": null,
   "metadata": {},
   "outputs": [],
   "source": [
    "plt.figure(figsize=(10, 6))\n",
    "plt.imshow(mpimg.imread(\"graphs/Pyramide_Paris_ecart1921.png\"))\n",
    "plt.title(\"Evolution de la pyramide des âges entre 2019 et 2021\")\n",
    "plt.axis(\"off\")\n",
    "print(\"attention légende fausse\")"
   ]
  },
  {
   "cell_type": "markdown",
   "metadata": {},
   "source": [
    "### B. L'évolution des effectifs scolaires par arrondissement entre 2019 et 2021\n",
    "#### a. Au global \n"
   ]
  },
  {
   "cell_type": "code",
   "execution_count": null,
   "metadata": {},
   "outputs": [],
   "source": [
    "print(\"Tableau de la baisse du nombre d'élèves\")\n",
    "print(stats_descr_effectif.table_pertes_df)"
   ]
  },
  {
   "cell_type": "code",
   "execution_count": null,
   "metadata": {},
   "outputs": [],
   "source": [
    "plt.figure(figsize=(10, 6))\n",
    "plt.imshow(mpimg.imread(\"graphs/carte_evol_effectifs_niveau.png\"))\n",
    "plt.axis(\"off\")"
   ]
  },
  {
   "cell_type": "code",
   "execution_count": null,
   "metadata": {},
   "outputs": [],
   "source": [
    "plt.figure(figsize=(10, 6))\n",
    "plt.imshow(mpimg.imread(\"graphs/carte_evol_effectifs_pourcentage.png\"))\n",
    "plt.axis(\"off\")\n",
    "print(\"ca serait utile de mettre le chiffre associé à la borne de droite de la légende\")"
   ]
  },
  {
   "cell_type": "markdown",
   "metadata": {},
   "source": [
    "\n",
    "#### b. La population en primaire\n",
    "\n",
    "#### c. La population en maternelle "
   ]
  },
  {
   "cell_type": "markdown",
   "metadata": {},
   "source": [
    "`Pour l'instant mes cellules tournent, les scripts fonctionnent et on peut normalement récupérer les graphiques et des bases de données comme dans les exemples plus haut`\n",
    "\n",
    "%matplotlib inline permet que quand le script est importé, tous les graphiques ne s'affichent pas"
   ]
  },
  {
   "cell_type": "markdown",
   "metadata": {},
   "source": [
    "## 4. Modelisation \n",
    "\n",
    "Ici les regressions d'Amandine "
   ]
  },
  {
   "cell_type": "code",
   "execution_count": 1,
   "metadata": {},
   "outputs": [
    {
     "name": "stdout",
     "output_type": "stream",
     "text": [
      "       ARM  is_T3  is_bac+5\n",
      "0  75101.0  False     False\n",
      "1  75101.0   True     False\n",
      "2  75101.0  False     False\n",
      "3  75101.0  False      True\n",
      "4  75101.0  False     False\n",
      "        ARM  Proportion_3_pieces_ou_plus  Proportion_bac+5\n",
      "0   75101.0                     0.292504          0.278525\n",
      "1   75102.0                     0.256221          0.340537\n",
      "2   75103.0                     0.290036          0.355793\n",
      "3   75104.0                     0.303363          0.314031\n",
      "4   75105.0                     0.344104          0.393335\n",
      "5   75106.0                     0.345176          0.348443\n",
      "6   75107.0                     0.342441          0.349192\n",
      "7   75108.0                     0.344595          0.310901\n",
      "8   75109.0                     0.336761          0.375933\n",
      "9   75110.0                     0.314613          0.322677\n",
      "10  75111.0                     0.305554          0.337951\n",
      "11  75112.0                     0.363464          0.298753\n",
      "12  75113.0                     0.398926          0.292613\n",
      "13  75114.0                     0.405702          0.327776\n",
      "14  75115.0                     0.358402          0.338687\n",
      "15  75116.0                     0.429374          0.354130\n",
      "16  75117.0                     0.378687          0.350650\n",
      "17  75118.0                     0.315830          0.272462\n",
      "18  75119.0                     0.421488          0.240400\n",
      "19  75120.0                     0.406682          0.263305\n",
      "       ARM  is_T3  is_bac+5\n",
      "0  75101.0   True     False\n",
      "1  75101.0   True      True\n",
      "2  75101.0   True     False\n",
      "3  75101.0   True     False\n",
      "4  75101.0   True      True\n",
      "        ARM  Proportion_3_pieces_ou_plus  Proportion_bac+5\n",
      "0   75101.0                     0.292237          0.299520\n",
      "1   75102.0                     0.258822          0.347325\n",
      "2   75103.0                     0.284362          0.356399\n",
      "3   75104.0                     0.306728          0.318722\n",
      "4   75105.0                     0.336302          0.391499\n",
      "5   75106.0                     0.340038          0.346080\n",
      "6   75107.0                     0.345808          0.349408\n",
      "7   75108.0                     0.346265          0.315174\n",
      "8   75109.0                     0.341778          0.383225\n",
      "9   75110.0                     0.310531          0.314361\n",
      "10  75111.0                     0.304332          0.343373\n",
      "11  75112.0                     0.372913          0.308214\n",
      "12  75113.0                     0.389580          0.294859\n",
      "13  75114.0                     0.395479          0.335736\n",
      "14  75115.0                     0.357536          0.339314\n",
      "15  75116.0                     0.426318          0.356779\n",
      "16  75117.0                     0.378383          0.354062\n",
      "17  75118.0                     0.317844          0.281680\n",
      "18  75119.0                     0.416548          0.241857\n",
      "19  75120.0                     0.399792          0.271870\n",
      "       ARM  is_T3  is_bac+5\n",
      "0  75101.0   True     False\n",
      "1  75101.0  False      True\n",
      "2  75101.0  False      True\n",
      "3  75101.0  False     False\n",
      "4  75101.0  False     False\n",
      "        ARM  Proportion_3_pieces_ou_plus  Proportion_bac+5\n",
      "0   75101.0                     0.287107          0.296678\n",
      "1   75102.0                     0.261342          0.355374\n",
      "2   75103.0                     0.278656          0.361003\n",
      "3   75104.0                     0.298096          0.317028\n",
      "4   75105.0                     0.328502          0.395362\n",
      "5   75106.0                     0.347729          0.351161\n",
      "6   75107.0                     0.343651          0.353603\n",
      "7   75108.0                     0.345757          0.319353\n",
      "8   75109.0                     0.335225          0.386045\n",
      "9   75110.0                     0.316667          0.325717\n",
      "10  75111.0                     0.302341          0.354250\n",
      "11  75112.0                     0.374131          0.314956\n",
      "12  75113.0                     0.391970          0.303092\n",
      "13  75114.0                     0.392946          0.347280\n",
      "14  75115.0                     0.351901          0.339461\n",
      "15  75116.0                     0.426909          0.362664\n",
      "16  75117.0                     0.379487          0.358312\n",
      "17  75118.0                     0.318108          0.292156\n",
      "18  75119.0                     0.413554          0.244069\n",
      "19  75120.0                     0.394927          0.277483\n"
     ]
    },
    {
     "name": "stderr",
     "output_type": "stream",
     "text": [
      "/home/onyxia/work/Projet-Python-evolution-des-ecoles-par-arrondissement-dans-Paris-entre-2019-et-2022/scripts/regressions.py:121: DtypeWarning: Columns (1) have mixed types. Specify dtype option on import or set low_memory=False.\n",
      "  df_ages_2021 = pd.read_csv('/home/onyxia/work/Projet-Python-evolution-des-ecoles-par-arrondissement-dans-Paris-entre-2019-et-2022/extracted_files/TD_POP1B_2021.csv', delimiter=';', encoding='latin1')\n",
      "/home/onyxia/work/Projet-Python-evolution-des-ecoles-par-arrondissement-dans-Paris-entre-2019-et-2022/scripts/regressions.py:122: DtypeWarning: Columns (1) have mixed types. Specify dtype option on import or set low_memory=False.\n",
      "  df_ages_2020 = pd.read_csv('/home/onyxia/work/Projet-Python-evolution-des-ecoles-par-arrondissement-dans-Paris-entre-2019-et-2022/extracted_files/TD_POP1B_2020.csv', delimiter=';', encoding='latin1')\n",
      "/home/onyxia/work/Projet-Python-evolution-des-ecoles-par-arrondissement-dans-Paris-entre-2019-et-2022/scripts/regressions.py:123: DtypeWarning: Columns (1) have mixed types. Specify dtype option on import or set low_memory=False.\n",
      "  df_ages_2019 = pd.read_csv('/home/onyxia/work/Projet-Python-evolution-des-ecoles-par-arrondissement-dans-Paris-entre-2019-et-2022/extracted_files/BTT_TD_POP1B_2019.csv', delimiter=';', encoding='latin1')\n"
     ]
    },
    {
     "name": "stdout",
     "output_type": "stream",
     "text": [
      "    CODGEO  Proportion_30_40_Ans\n",
      "0    75101              0.165788\n",
      "1    75102              0.201699\n",
      "2    75103              0.186804\n",
      "3    75104              0.158299\n",
      "4    75105              0.124023\n",
      "5    75106              0.119869\n",
      "6    75107              0.121737\n",
      "7    75108              0.136073\n",
      "8    75109              0.195379\n",
      "9    75110              0.202234\n",
      "10   75111              0.199982\n",
      "11   75112              0.169881\n",
      "12   75113              0.154218\n",
      "13   75114              0.149984\n",
      "14   75115              0.163298\n",
      "15   75116              0.120079\n",
      "16   75117              0.176450\n",
      "17   75118              0.206879\n",
      "18   75119              0.165693\n",
      "19   75120              0.173475\n",
      "    CODGEO  Proportion_30_40_Ans\n",
      "0    75101              0.164980\n",
      "1    75102              0.195695\n",
      "2    75103              0.181127\n",
      "3    75104              0.157591\n",
      "4    75105              0.122420\n",
      "5    75106              0.120267\n",
      "6    75107              0.119641\n",
      "7    75108              0.134635\n",
      "8    75109              0.193247\n",
      "9    75110              0.204355\n",
      "10   75111              0.195946\n",
      "11   75112              0.170201\n",
      "12   75113              0.151405\n",
      "13   75114              0.147994\n",
      "14   75115              0.162062\n",
      "15   75116              0.117555\n",
      "16   75117              0.176627\n",
      "17   75118              0.204908\n",
      "18   75119              0.168871\n",
      "19   75120              0.172821\n",
      "    CODGEO  Proportion_30_40_Ans\n",
      "0    75101              0.171042\n",
      "1    75102              0.198457\n",
      "2    75103              0.183113\n",
      "3    75104              0.155268\n",
      "4    75105              0.122031\n",
      "5    75106              0.122039\n",
      "6    75107              0.117915\n",
      "7    75108              0.132271\n",
      "8    75109              0.189692\n",
      "9    75110              0.204653\n",
      "10   75111              0.199036\n",
      "11   75112              0.167586\n",
      "12   75113              0.151639\n",
      "13   75114              0.146274\n",
      "14   75115              0.160576\n",
      "15   75116              0.117210\n",
      "16   75117              0.175142\n",
      "17   75118              0.205837\n",
      "18   75119              0.169964\n",
      "19   75120              0.170980\n",
      "                             OLS Regression Results                            \n",
      "===============================================================================\n",
      "Dep. Variable:     nombre_total_eleves   R-squared:                       0.761\n",
      "Model:                             OLS   Adj. R-squared:                  0.716\n",
      "Method:                  Least Squares   F-statistic:                     17.00\n",
      "Date:                 Mon, 16 Dec 2024   Prob (F-statistic):           3.13e-05\n",
      "Time:                         12:16:20   Log-Likelihood:                -184.76\n",
      "No. Observations:                   20   AIC:                             377.5\n",
      "Df Residuals:                       16   BIC:                             381.5\n",
      "Df Model:                            3                                         \n",
      "Covariance Type:             nonrobust                                         \n",
      "===============================================================================================\n",
      "                                  coef    std err          t      P>|t|      [0.025      0.975]\n",
      "-----------------------------------------------------------------------------------------------\n",
      "const                       -3.774e+04   1.26e+04     -2.986      0.009   -6.45e+04   -1.09e+04\n",
      "Proportion_3_pieces_ou_plus  1.013e+05   1.63e+04      6.206      0.000    6.67e+04    1.36e+05\n",
      "Proportion_bac+5            -1.336e+04   1.81e+04     -0.737      0.472   -5.18e+04    2.51e+04\n",
      "Proportion_30_40_Ans         8.996e+04   2.68e+04      3.359      0.004    3.32e+04    1.47e+05\n",
      "==============================================================================\n",
      "Omnibus:                        4.414   Durbin-Watson:                   1.983\n",
      "Prob(Omnibus):                  0.110   Jarque-Bera (JB):                2.288\n",
      "Skew:                           0.687   Prob(JB):                        0.319\n",
      "Kurtosis:                       3.927   Cond. No.                         58.2\n",
      "==============================================================================\n",
      "\n",
      "Notes:\n",
      "[1] Standard Errors assume that the covariance matrix of the errors is correctly specified.\n",
      "                             OLS Regression Results                            \n",
      "===============================================================================\n",
      "Dep. Variable:     nombre_total_eleves   R-squared:                       0.756\n",
      "Model:                             OLS   Adj. R-squared:                  0.710\n",
      "Method:                  Least Squares   F-statistic:                     16.50\n",
      "Date:                 Mon, 16 Dec 2024   Prob (F-statistic):           3.74e-05\n",
      "Time:                         12:16:20   Log-Likelihood:                -184.64\n",
      "No. Observations:                   20   AIC:                             377.3\n",
      "Df Residuals:                       16   BIC:                             381.3\n",
      "Df Model:                            3                                         \n",
      "Covariance Type:             nonrobust                                         \n",
      "===============================================================================================\n",
      "                                  coef    std err          t      P>|t|      [0.025      0.975]\n",
      "-----------------------------------------------------------------------------------------------\n",
      "const                         -3.6e+04   1.31e+04     -2.739      0.015   -6.39e+04   -8132.747\n",
      "Proportion_3_pieces_ou_plus  1.002e+05   1.68e+04      5.978      0.000    6.47e+04    1.36e+05\n",
      "Proportion_bac+5            -1.404e+04   1.94e+04     -0.726      0.479   -5.51e+04     2.7e+04\n",
      "Proportion_30_40_Ans         8.385e+04   2.66e+04      3.157      0.006    2.75e+04     1.4e+05\n",
      "==============================================================================\n",
      "Omnibus:                        3.764   Durbin-Watson:                   2.003\n",
      "Prob(Omnibus):                  0.152   Jarque-Bera (JB):                1.824\n",
      "Skew:                           0.620   Prob(JB):                        0.402\n",
      "Kurtosis:                       3.806   Cond. No.                         59.4\n",
      "==============================================================================\n",
      "\n",
      "Notes:\n",
      "[1] Standard Errors assume that the covariance matrix of the errors is correctly specified.\n",
      "                             OLS Regression Results                            \n",
      "===============================================================================\n",
      "Dep. Variable:     nombre_total_eleves   R-squared:                       0.757\n",
      "Model:                             OLS   Adj. R-squared:                  0.712\n",
      "Method:                  Least Squares   F-statistic:                     16.63\n",
      "Date:                 Mon, 16 Dec 2024   Prob (F-statistic):           3.57e-05\n",
      "Time:                         12:16:20   Log-Likelihood:                -183.74\n",
      "No. Observations:                   20   AIC:                             375.5\n",
      "Df Residuals:                       16   BIC:                             379.5\n",
      "Df Model:                            3                                         \n",
      "Covariance Type:             nonrobust                                         \n",
      "===============================================================================================\n",
      "                                  coef    std err          t      P>|t|      [0.025      0.975]\n",
      "-----------------------------------------------------------------------------------------------\n",
      "const                       -3.663e+04   1.25e+04     -2.939      0.010    -6.3e+04   -1.02e+04\n",
      "Proportion_3_pieces_ou_plus  9.873e+04    1.6e+04      6.173      0.000    6.48e+04    1.33e+05\n",
      "Proportion_bac+5            -9144.9622   1.82e+04     -0.501      0.623   -4.78e+04    2.95e+04\n",
      "Proportion_30_40_Ans         8.028e+04    2.5e+04      3.215      0.005    2.73e+04    1.33e+05\n",
      "==============================================================================\n",
      "Omnibus:                        6.016   Durbin-Watson:                   2.065\n",
      "Prob(Omnibus):                  0.049   Jarque-Bera (JB):                3.560\n",
      "Skew:                           0.869   Prob(JB):                        0.169\n",
      "Kurtosis:                       4.119   Cond. No.                         58.6\n",
      "==============================================================================\n",
      "\n",
      "Notes:\n",
      "[1] Standard Errors assume that the covariance matrix of the errors is correctly specified.\n"
     ]
    }
   ],
   "source": [
    "from scripts import regressions"
   ]
  },
  {
   "cell_type": "code",
   "execution_count": 15,
   "metadata": {},
   "outputs": [
    {
     "name": "stdout",
     "output_type": "stream",
     "text": [
      "                             Coefficients   P-value\n",
      "const                       -36625.780468  0.009620\n",
      "Proportion_3_pieces_ou_plus  98730.135869  0.000013\n",
      "Proportion_bac+5             -9144.962215  0.622941\n",
      "Proportion_30_40_Ans         80279.477790  0.005406\n"
     ]
    }
   ],
   "source": [
    "import pandas as pd\n",
    "print(pd.DataFrame({ \"Coefficients\": regressions.model.fit().params, \"P-value\": regressions.model.fit().pvalues}))\n",
    "#regressions.merged_data_2019"
   ]
  },
  {
   "cell_type": "markdown",
   "metadata": {},
   "source": [
    "## 5. Conclusion\n"
   ]
  },
  {
   "cell_type": "markdown",
   "metadata": {},
   "source": []
  }
 ],
 "metadata": {
  "kernelspec": {
   "display_name": "base",
   "language": "python",
   "name": "python3"
  },
  "language_info": {
   "codemirror_mode": {
    "name": "ipython",
    "version": 3
   },
   "file_extension": ".py",
   "mimetype": "text/x-python",
   "name": "python",
   "nbconvert_exporter": "python",
   "pygments_lexer": "ipython3",
   "version": "3.12.7"
  }
 },
 "nbformat": 4,
 "nbformat_minor": 2
}
