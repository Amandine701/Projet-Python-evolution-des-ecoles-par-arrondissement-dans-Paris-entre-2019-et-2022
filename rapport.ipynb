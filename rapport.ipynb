{
 "cells": [
  {
   "cell_type": "markdown",
   "metadata": {},
   "source": [
    "# L'évolution de la population scolaire et de la population totale à Paris entre 2019 et 2021, par arrondissement \n",
    "### Problématique : Est-ce que l'évolution de la démographie des écoles est en accord avec évolution de la population (par classe d'âge) ?\n",
    "\n",
    "Claire du Campe de Rosamel, Benoît Nallet, Amandine Perret\n",
    "\n",
    "## 1. Introduction\n",
    "\n",
    "La ville de Paris connaît des changements importants dans sa population notamment liés au marché de l'immobilier. Ces évolutions ont pu être également influencées par la crise sanitaire de la COVID-19 et d’autres facteurs. \n",
    "Ces raisons nous ont amené à nous intéresser à la dynamique d'évolution de la population à Paris entre 2019 et 2021, couplée à l’évolution des effectifs scolaires sur cette période. \n",
    "La hausse des prix et la concentration du patrimoine immobilier complexifie la vie de famille à Paris avec un moindre espace pour vivre ou un relogement hors de la capitale. \n",
    "\n",
    "L’objectif de notre projet est de mettre en évidence l'existence d'un lien entre les variations de la population et celles du nombre d'élèves inscrits dans les écoles. Autrement dit, d'étudier si les variations des effectifs scolaires se font dans le même sens que celles de la population globale, ou que celles de certaines tranches d'âges.\n",
    "\n",
    "Avant de commencer l'analyse les modules suivants devront être installés : "
   ]
  },
  {
   "cell_type": "code",
   "execution_count": null,
   "metadata": {},
   "outputs": [],
   "source": [
    "%%capture\n",
    "!pip install unidecode\n",
    "!pip install py7zr geopandas openpyxl tqdm s3fs \n",
    "!pip install PyYAML xlrd\n",
    "!pip install git+https://github.com/inseefrlab/cartiflette\n",
    "!pip install urllib3==1.26.5\n",
    "!pip install prettytable\n",
    "!pip install os"
   ]
  },
  {
   "cell_type": "markdown",
   "metadata": {},
   "source": [
    "Les unités statistiques de notre étude sont donc :\n",
    "\n",
    "- la population en logement ordinaire et en résidence principale,\n",
    "- la population scolaire en école primaire (maternelle et élémentaire).\n",
    "\n",
    "Le champ de l'étude est restreint à la ville de Paris pour les années 2019 à 2021."
   ]
  },
  {
   "cell_type": "markdown",
   "metadata": {},
   "source": [
    "## 2. Collecte et nettoyage des données \n",
    "\n",
    "Notre analyse repose sur plusieurs bases de données publiques issues de la Statistique publique et disponibles directement sur le site internet de l'Insee.\n",
    " \n",
    "Les effectifs scolaires sont disponibles à l'url https://data.education.gouv.fr/explore/dataset/fr-en-ecoles-effectifs-nb_classes/table/?disjunctive.rentree_scolaire&disjunctive.region_academique&disjunctive.academie&disjunctive.departement&disjunctive.commune&disjunctive.numero_ecole&disjunctive.denomination_principale&disjunctive.patronyme&disjunctive.secteur&disjunctive.code_postal&sort=tri\n",
    "Cette base recense le nombre d'élèves par classe et par école  pour toute la France. Nous avons donc réduit le champ de l'étude aux seules écoles dans Paris intra-muros (dont le code postal commence par 75). \n",
    "\n",
    "Une deuxième partie des données est issue du recensement fait par l'Insee. Plusieurs bases de données ont été nécessaires. La base logement nous permet de comptabiliser la population habitant effectivement dans chaque arrondissement. La base population renseigne les effectifs de population par tranche d'âge et par arrondissement, ce qui nous permet, entre autres, de visualiser des pyramides d'âges dans le temps. \n",
    "\n",
    "Les différentes bases de données sont importées directement depuis leur adresse internet et sont ensuite nettoyées dans le script \"import_data.py\", que l'on importe sous forme de module ci-dessous. Les données étant quasiment exploitables, la mise en forme des données se poursuit par des opérations des filtrages. Par la suite seront créés d'autres variables comme le nombre total d'élèves dans un arrondissement. "
   ]
  },
  {
   "cell_type": "code",
   "execution_count": null,
   "metadata": {},
   "outputs": [],
   "source": [
    "%%capture\n",
    "from scripts import import_data"
   ]
  },
  {
   "cell_type": "markdown",
   "metadata": {},
   "source": [
    "## 3. Quels constats ?\n",
    "\n",
    "Depuis la crise sanitaire la ville de Paris a perdu des habitants dans un contexte de vieillissement de la population.\n",
    "\n",
    "Ces pertes sont concentrées dans le Nord-Est parisien et on retrouve la même géographie de perte pour la population par arrondissement de scolarisation."
   ]
  },
  {
   "cell_type": "markdown",
   "metadata": {},
   "source": [
    "### A. L'évolution de la population à Paris par arrondissement entre 2019 et 2021\n",
    "#### a. L'évolution globale "
   ]
  },
  {
   "cell_type": "code",
   "execution_count": null,
   "metadata": {},
   "outputs": [],
   "source": [
    "import os\n",
    "os.makedirs(os.path.join(os.getcwd(), \"graphs\"))"
   ]
  },
  {
   "cell_type": "code",
   "execution_count": null,
   "metadata": {},
   "outputs": [],
   "source": [
    "%%capture\n",
    "from scripts import stats_descr_recensement"
   ]
  },
  {
   "cell_type": "markdown",
   "metadata": {},
   "source": [
    "Au global, la population vivant en logement ordinaire diminue à Paris d'environ 4 000 habitants par an, soit une baisse de 0,47% par an (Tableau 1). Cependant cette évolution n'est pas uniforme entre tous les arrondissements parisiens. \n",
    "\n",
    "Entre 2019 et 2021, la baisse de la population est plus marquée dans le quart nord-est de Paris (Carte 1). A l'inverse, les arrondissements du sud ont quant à eux gagné des habitants sur la période. "
   ]
  },
  {
   "cell_type": "code",
   "execution_count": null,
   "metadata": {},
   "outputs": [],
   "source": [
    "print(\"Tableau 1 - L'évolution globale de la population parisienne en résidence principale\")\n",
    "print(stats_descr_recensement.pop_totale)"
   ]
  },
  {
   "cell_type": "code",
   "execution_count": null,
   "metadata": {},
   "outputs": [],
   "source": [
    "import matplotlib.pyplot as plt\n",
    "import matplotlib.image as mpimg\n",
    "plt.figure(figsize=(10, 6))\n",
    "plt.imshow(mpimg.imread(\"graphs/carte_evol_population_niveau.png\"))\n",
    "plt.axis(\"off\")\n",
    "print(\"Carte 1 - Evolution de la population par arrondissement entre 2019 et 2021\")"
   ]
  },
  {
   "cell_type": "markdown",
   "metadata": {},
   "source": [
    "Le diagnostic de l'évolution des effectifs est complété par celui de l'évolution de la population en pourcentage, laquelle donne une meilleure approche de l'intensité de l'évolution démographique à Paris. On observe ainsi que les arrondissements qui gagnent des habitants en gagnent relativement moins - au maximum +1,5% - que ceux qui en perdent et dont la population a pu baissé jusqu'à 5% sur la période (Graphique 1). \n",
    "\n",
    "Les arrondissements du centre parisien, pourtant les moins concernés par une baisse absolue de la population, sont en réalité parmi les arrondissements les plus touchés en proportion du nombre de leurs habitants (Carte 2). Cette baisse relative est d'autant plus parlante  que ces arrondissements sont d'une superficie plus faible que ceux du Nord : la perte en habitants y est donc d'une plus grande intensité. \n",
    "\n",
    "Dans un grand nombre d'arrondissements, l'évolution de leur population entre 2019 et 2020 explique la majeure partie de l'évolution démographique totale entre 2019 et 2021. \n",
    "Il semble donc difficile de conclure sur l'existence d'un effet de la Covid-19, la baisse de la population en résidence principale était déjà amorcée courant 2019 (Tableau 2). \n",
    "\n",
    "Enfin, on ne constate pas une nette accélération de la perte d'habitants."
   ]
  },
  {
   "cell_type": "code",
   "execution_count": null,
   "metadata": {},
   "outputs": [],
   "source": [
    "print(\"Tableau 2 - Evolution de la population parisienne sur la période 2019-2021: décomposition par année\")\n",
    "print(stats_descr_recensement.part_evolution_par_an_et_arrondissement)"
   ]
  },
  {
   "cell_type": "code",
   "execution_count": null,
   "metadata": {},
   "outputs": [],
   "source": [
    "plt.figure(figsize=(10, 6))\n",
    "plt.imshow(mpimg.imread(\"graphs/evolution_population_avec_contrib.png\"))\n",
    "plt.axis(\"off\")\n",
    "print(\"Graphique 1 - Evolution de la population par arrondissement entre 2019 et 2021, avec contribution de 2020\")"
   ]
  },
  {
   "cell_type": "code",
   "execution_count": null,
   "metadata": {},
   "outputs": [],
   "source": [
    "plt.figure(figsize=(10, 6))\n",
    "plt.imshow(mpimg.imread(\"graphs/carte_evol_population_pourcentage.png\"))\n",
    "plt.axis(\"off\")\n",
    "print(\"Carte 2 - Evolution de la population par arrondissement entre 2019 et 2021, en pourcentage\")"
   ]
  },
  {
   "cell_type": "markdown",
   "metadata": {},
   "source": [
    "\n",
    "#### b. Focus sur la pyramide des âges \n",
    "\n"
   ]
  },
  {
   "cell_type": "code",
   "execution_count": null,
   "metadata": {},
   "outputs": [],
   "source": [
    "import os\n",
    "\n",
    "os.makedirs(os.path.join(os.getcwd(), \"graphs/Pyramides des âges 2019\"))\n",
    "os.makedirs(os.path.join(os.getcwd(), \"graphs/Pyramides des âges 2020\"))\n",
    "os.makedirs(os.path.join(os.getcwd(), \"graphs/Pyramides des âges 2021\"))"
   ]
  },
  {
   "cell_type": "code",
   "execution_count": null,
   "metadata": {},
   "outputs": [],
   "source": [
    "%%capture\n",
    "from scripts import stats_ages"
   ]
  },
  {
   "cell_type": "markdown",
   "metadata": {},
   "source": [
    "La baisse du nombre de résidents en résidence principale n'est pas uniforme entre les classes d'âges. Dans l'ensemble, Paris a perdu entre 2019 et 2021 des enfants (0 - 11 ans) et des personnes âgées entre 30 et 60 ans. En un sens, Paris perd des travailleurs et gagne des retraités. \n",
    "\n",
    "On peut noter que Paris perd des personnes en âge d'avoir des enfants (30 - 40 ans), ce qui peut être lié à la perte d'enfants à Paris. C'est plutôt sur cette population que notre analyse va porter."
   ]
  },
  {
   "cell_type": "code",
   "execution_count": null,
   "metadata": {},
   "outputs": [],
   "source": [
    "plt.figure(figsize=(10, 6))\n",
    "plt.imshow(mpimg.imread(\"graphs/Pyramide_Paris_ecart1921.png\"))\n",
    "plt.axis(\"off\")\n",
    "print(\"Graphique 2 - Ecarts entre la pyramide des âges de 2021 et 2019\")"
   ]
  },
  {
   "cell_type": "markdown",
   "metadata": {},
   "source": [
    "Cependant les personne âgées de 27 à 38 ans demeurent les personnes les plus nombreuses à Paris en 2021 malgré cette baisse observée depuis 2019 (graphique 3). "
   ]
  },
  {
   "cell_type": "code",
   "execution_count": null,
   "metadata": {},
   "outputs": [],
   "source": [
    "pyramide_2021 = stats_ages.Pyramid_2021.to_frame(name=\"Effectifs\")\n",
    "pyramide_2021.plot(kind='barh', color='darkblue', figsize=(10, 6), title ='Graphique 3 - Pyramide des âges de Paris en 2021', ylabel = \"Tranche d'âge\") \n",
    "print(\"Graphique 3 - Pyramide des âges de Paris en 2021\")"
   ]
  },
  {
   "cell_type": "markdown",
   "metadata": {},
   "source": [
    "### B. L'évolution des effectifs scolaires par arrondissement entre 2019 et 2021\n",
    "#### a. Au global \n"
   ]
  },
  {
   "cell_type": "code",
   "execution_count": null,
   "metadata": {},
   "outputs": [],
   "source": [
    "%%capture\n",
    "from scripts import stats_descr_effectif ;"
   ]
  },
  {
   "cell_type": "markdown",
   "metadata": {},
   "source": [
    "Sur la période, Paris a perdu 10 600 élèves (Tableau 3). \n",
    "\n",
    "La baisse s'amplifie en 2020 sans qu'il soit possible de conclure sur une éventuelle causalité. Par arrondissement, la baisse se confirme mais est d'intensité variable d'une année sur l'autre (Graphique 4). "
   ]
  },
  {
   "cell_type": "code",
   "execution_count": null,
   "metadata": {},
   "outputs": [],
   "source": [
    "print(\"Tableau 3 - la baisse du nombre d'élèves entre 2019 et 2021\")\n",
    "print(stats_descr_effectif.table_pertes_df)"
   ]
  },
  {
   "cell_type": "code",
   "execution_count": null,
   "metadata": {},
   "outputs": [],
   "source": [
    "plt.figure(figsize=(10, 6))\n",
    "plt.imshow(mpimg.imread(\"graphs/evolution_effectif_avec_contrib.png\"))\n",
    "plt.axis(\"off\")\n",
    "print(\"Graphique 4 - Baisse du nombre d'élèves, avec contribution de 2020\")"
   ]
  },
  {
   "cell_type": "markdown",
   "metadata": {},
   "source": [
    "La vue schématique par carte est plus parlante : contrairement à l'évolution tantôt positive tantôt négative de la population par arrondissement, ici tous les arrondissements ont perdu des élèves entre 2019 et 2021. \n",
    "\n",
    "Le diagnostic d'une perte de population plus forte pour les arrondissements du nord-est parisien se retrouve aussi pour la population scolaire même si les effectifs scolaires n'évoluent pas exactement de la même manière que la population totale. Ces évolutions sont du même ordre de grandeur : c'est principalement le Nord est parisien qui perd à la fois des habitants et des élèves (ici jusqu'à 12% de perte d'effectifs scolaires sur la période) (Tableau 4). \n",
    "\n",
    "Cette tendance s'observe également dans les arrondissements du centre. La baisse du niveau des effectifs est moins importante pour ces arrondissements que pour les autres (Carte 3). Néanmoins la baisse relative est plus importante que pour les autres, à l'exception des arrondissements du nord est (Carte 4). "
   ]
  },
  {
   "cell_type": "code",
   "execution_count": null,
   "metadata": {},
   "outputs": [],
   "source": [
    "print(\"Tableau 4 - Evolution des effectifs scolaires par arrondissement sur la période 2019-2021\")\n",
    "print(stats_descr_effectif.evolution_totale_arrondissement_df)"
   ]
  },
  {
   "cell_type": "code",
   "execution_count": null,
   "metadata": {},
   "outputs": [],
   "source": [
    "plt.figure(figsize=(10, 6))\n",
    "plt.imshow(mpimg.imread(\"graphs/carte_evol_effectifs_niveau.png\"))\n",
    "plt.axis(\"off\")\n",
    "print(\"Carte 3 - La baisse des effectifs scolaire entre 2019 et 2021, en niveau\")"
   ]
  },
  {
   "cell_type": "code",
   "execution_count": null,
   "metadata": {},
   "outputs": [],
   "source": [
    "plt.figure(figsize=(10, 6))\n",
    "plt.imshow(mpimg.imread(\"graphs/carte_evol_effectifs_pourcentage.png\"))\n",
    "plt.axis(\"off\")\n",
    "print(\"Carte 4 - La baisse des effectifs scolaire entre 2019 et 2021, en pourcentage\")"
   ]
  },
  {
   "cell_type": "markdown",
   "metadata": {},
   "source": [
    "## 4. Modelisation \n",
    "\n",
    "### Introduction\n",
    "On cherche donc à modéliser l'évolution des effectifs scolaires sur la période, et à tenter de trouver des variables corrélées à cette variable d'intérêt. \n",
    "Notre démarche est avant tout exploratoire et n'a pas vocation à trouver un cadre causale robuste, comme par exemple une expérience randomisée. Il s'agit avant tout de vérifier si quelques variables explicatives ont un quelconque pouvoir prédictif.\n",
    "\n",
    "De prime abord, on peut considérer que la population d'intérêt est celle des 30 - 40 ans, la plus probable d'avoir fondée une famille et d'avoir des enfants sur la période précédente. En outre, le logement est une question centrale pour les familles, l'arrivée d'un enfant rendant impérieuse la question d'une pièce supplémentaire pour le couple. Pour ces deux variables, il serait raisonnable de s'attendre à un effet positif.\n",
    "Enfin, l'âge moyen du premier enfant et le nombre d'enfants par femme est décroissant du niveau d'études. Paris étant la ville concentrant le plus grand nombre de diplômes de niveau élevé, il est possible que cette proportion joue négativement sur le nombre d'élèves futurs."
   ]
  },
  {
   "cell_type": "markdown",
   "metadata": {},
   "source": [
    "### Choix des modèles\n",
    "\n",
    "Plusieurs spécifications du modèle vont être testées. \n",
    "Tout d'abord une regression pour chacune des années étudiées, puis une sur les écarts en niveau entre 2019 et 2021.\n",
    "\n",
    "#### Estimation année par année \n",
    "Le modèle linéaire du niveau de l'effectif scolaire de chacun des arrondissements lors trois années différentes est le suivant :\n",
    "$$\n",
    "effectifs\\_scolaires _{i,t} = \\alpha + \\beta_1 \\times prop\\_T3_{i,t} + \\beta_2 \\times prop\\_bac\\_plus5_{i,t} + \\beta_3 \\times prop\\_30\\_40\\_ans_{i,t} + \\gamma \\times X + \\epsilon_{i,t}\n",
    "$$\n",
    "où $prop\\_T3_{i,t}$ est la proportion d'appartements de 3 pièces ou plus (T3) dans l'arrondissement, $prop\\_bac\\_plus5_{i,t}$ la proportion de personnes ayant un diplôme de niveau bac + 5 dans l'arrondissement, $prop\\_30\\_40\\_ans_{i,t}$ la proportion de personnes âgées de 30 à 40 ans dans l'arrondissement. $X$ est un vecteur de variables de contrôles constitué des variables indicatrices pour la zone dans laquelle se situe l'arrondissement : nord-est, nord-ouest, sud-est, sud-ouest. \n",
    "\n"
   ]
  },
  {
   "cell_type": "code",
   "execution_count": null,
   "metadata": {},
   "outputs": [],
   "source": [
    "%%capture\n",
    "from scripts import regressions"
   ]
  },
  {
   "cell_type": "markdown",
   "metadata": {},
   "source": [
    "Pour chacune des années, le signe des coefficients est conforme à nos attentes (Tableau 5).\n",
    "\n",
    "Les variables $prop\\_30\\_40\\_ans_{i}$ et $prop\\_T3_{i}$ ont bien un effet positif sur le nombre d'élèves dans l'arrondissement, et ce de manière fortement significative. Ainsi le nombre d'élèves dans un arrondissement augmente quand la proportion de T3 et/ou la proportion de personnes âgées entre 30 et 40 ans augmentent. \n",
    "De même la variable $prop\\_bac\\_plus5_{i}$ a bien un effet négatif sur le nombre d'élèves dans l'arrondissement mais cet effet n'est significatif à aucun seuil usuel et pour aucune année (tableau 6). \n"
   ]
  },
  {
   "cell_type": "code",
   "execution_count": null,
   "metadata": {},
   "outputs": [],
   "source": [
    "import pandas as pd\n",
    "print(\"Tableau 5 - Résultats de la régression par année\")  \n",
    "print(\"Tableau synthétique de la régression pour l'année 2019\")\n",
    "print(pd.DataFrame({ \"Coefficients\": regressions.model_2019.fit().params.map('{:.2f}'.format), \"P-value\": regressions.model_2019.fit().pvalues.map('{:.4f}'.format)}))\n",
    "\n",
    "print(\"Tableau synthétique de la régression pour l'année 2020\")\n",
    "print(pd.DataFrame({ \"Coefficients\": regressions.model_2020.fit().params.map('{:.2f}'.format), \"P-value\": regressions.model_2020.fit().pvalues.map('{:.4f}'.format)}))\n",
    "  \n",
    "print(\"Tableau synthétique de la régression pour l'année 2021\")\n",
    "print(pd.DataFrame({ \"Coefficients\": regressions.model_2021.fit().params.map('{:.2f}'.format), \"P-value\": regressions.model_2021.fit().pvalues.map('{:.4f}'.format)}))"
   ]
  },
  {
   "cell_type": "markdown",
   "metadata": {},
   "source": [
    "Le test de nullité jointe est très performant et ce pour toutes les années prises séparément (Tableau 6). L'hypothèse de nullité jointe est rejetée pour tout niveau de confiance, on peut donc exclure l'hypothèse que le modèle n'explique pas l'évolution de la population scolaire.\n",
    "Pour chaque année, la capacité prédictive du modèle est elle aussi performante avec un R² de 75 %, même si sa portée est limitée par l'absence de cadre causal."
   ]
  },
  {
   "cell_type": "code",
   "execution_count": null,
   "metadata": {},
   "outputs": [],
   "source": [
    "print(\"Tableau 6 - R² et statistique de Fisher du test de nullité jointe\")\n",
    "def tableau_indicateurs_globaux(model_fit):\n",
    "    return pd.DataFrame({\n",
    "        \"Indicateurs\": [\"R-squared\", \"F-statistic\", \"P-value (F-test)\"],\n",
    "        \"Valeurs\": [model_fit.rsquared, model_fit.fvalue, model_fit.f_pvalue]\n",
    "    })\n",
    "model_fit_2019 = regressions.model_2019.fit()\n",
    "print(\"Résultats synthétiques pour l'année 2019\")\n",
    "print(tableau_indicateurs_globaux(model_fit_2019))\n",
    "model_fit_2020 = regressions.model_2020.fit()\n",
    "print(\"Résultats synthétiques pour l'année 2020\")\n",
    "print(tableau_indicateurs_globaux(model_fit_2020))\n",
    "model_fit_2021 = regressions.model_2021.fit()\n",
    "print(\"Résultats synthétiques pour l'année 2021\")\n",
    "print(tableau_indicateurs_globaux(model_fit_2021))"
   ]
  },
  {
   "cell_type": "markdown",
   "metadata": {},
   "source": [
    "#### Estimation en écarts de niveau entre 2019 et 2021\n",
    "\n",
    "Une alternative est d'estimer directement l'écart de niveau entre 2019 et 2021. La spécification est alors la suivante :\n",
    "$$\n",
    "\\Delta effectifs\\_scolaires _{i} = \\alpha + \\beta_1 \\times \\Delta prop\\_T3_{i} + \\beta_2 \\times \\Delta prop\\_bac\\_plus5_{i} + \\beta_3 \\times \\Delta prop\\_30\\_40\\_ans_{i} + \\gamma \\times \\Delta X + \\epsilon_{i}\n",
    "$$"
   ]
  },
  {
   "cell_type": "code",
   "execution_count": null,
   "metadata": {},
   "outputs": [],
   "source": [
    "%%capture\n",
    "from scripts import regressions_effectifs"
   ]
  },
  {
   "cell_type": "markdown",
   "metadata": {},
   "source": [
    "Avec cette nouvelle spécification, la significativité individuelle des variables s'améliore notamment la variable relative au niveau de diplômes (Tableau 7). L'ampleur de chacun des coefficients s'est un peu réduit mais leur signe respectif reste conforme à notre analyse.\n",
    "\n",
    "Plus particulièrement l'augmentation de la proportion d'adultes âgés de 30 à 40 ans augmente les effectifs scolaires dans l'arrondissement. Or on sait que le nombre d'adultes âgés de 30 à 40 ans a diminué à Paris sur la période étudiée, ce qui corrobore la baisse des effectifs scolaires entre 2019 et 2021. "
   ]
  },
  {
   "cell_type": "code",
   "execution_count": null,
   "metadata": {},
   "outputs": [],
   "source": [
    "print(\"Tableau 7 - Résultats de la régression en écarts en niveau\")\n",
    "print(pd.DataFrame({ \"Coefficients\": regressions_effectifs.model_effectifs_absolus_zone.fit().params.map('{:.2f}'.format), \"P-value\": regressions_effectifs.model_effectifs_absolus_zone.fit().pvalues.map('{:.4f}'.format)}))"
   ]
  },
  {
   "cell_type": "code",
   "execution_count": null,
   "metadata": {},
   "outputs": [],
   "source": [
    "pd.options.display.float_format = '{:.4f}'.format\n",
    "print(\"Tableau 8 - R² et statistique de Fisher du test de nullité jointe\")\n",
    "print(tableau_indicateurs_globaux(regressions_effectifs.model_effectifs_absolus_zone.fit()))"
   ]
  },
  {
   "cell_type": "markdown",
   "metadata": {},
   "source": [
    "#### Estimation par écart en ratio entre 2019 et 2021\n",
    "\n",
    "Une autre manière d'estimer les variations entre 2019 et 2021 est d'analyser l'évolution des ratios de chacune des variables. Ceci revient à estimer le taux de variation du nombre d'élèves entre 2019 et 2021 en fonction du taux de variation de chacune des variables explicatives."
   ]
  },
  {
   "cell_type": "code",
   "execution_count": null,
   "metadata": {},
   "outputs": [],
   "source": [
    "%%capture\n",
    "from scripts import regressions_ratios"
   ]
  },
  {
   "cell_type": "markdown",
   "metadata": {},
   "source": [
    "Cette nouvelle spécification est peu probante en terme de significativité et de signe des coefficients. D'un part seule la part d'adultes entre 30 et 40 est significative, à 5 %, d'autres parts le signe des coefficients est contre-intuitivement négatif pour le ratio de bac+5 et pour celui de la part de logements de type T3+.\n",
    "\n",
    "Même avec un R² élevé et un p-value du test de nullité jointe de l'ordre 1%, cette spécification ne semble pas pertinente pour analyser l'évolution du nombre d'élèves."
   ]
  },
  {
   "cell_type": "code",
   "execution_count": null,
   "metadata": {},
   "outputs": [],
   "source": [
    "import pandas as pd\n",
    "print(\"Tableau 9 - Résultats de la régression en écarts en ratio\")\n",
    "print(pd.DataFrame({ \"Coefficients\": regressions_ratios.model_avec_ratios.fit().params.map('{:.4f}'.format), \"P-value\": regressions_ratios.model_avec_ratios.fit().pvalues.map('{:.4f}'.format)}))"
   ]
  },
  {
   "cell_type": "code",
   "execution_count": null,
   "metadata": {},
   "outputs": [],
   "source": [
    "print(\"Tableau 10 - R² et statistique de Fisher du test de nullité jointe\")\n",
    "print(tableau_indicateurs_globaux(regressions_ratios.model_avec_ratios.fit()))"
   ]
  },
  {
   "cell_type": "markdown",
   "metadata": {},
   "source": [
    "## 5. Conclusion\n"
   ]
  },
  {
   "cell_type": "markdown",
   "metadata": {},
   "source": [
    "Entre 2019 et 2021, Paris a perdu des élèves mais a vu localement sa population en résidence principale augmenter. La perte d'élèves se concentre dans les arrondissements à un chiffre de la rive droite et du centre. Il est difficile de conclure à l'existence d'un effet spécifiquement lié à la crise sanitaire puisque la baisse de la population scolaire était déjà une réalité en 2019.\n",
    "L'analyse économétrique conforte l'hypothèse que la baisse du nombre de T3+ et de la proportion d'adultes dans leur trentaine a un effet significatif sur le nombre d'élèves scolarisés en école primaire (maternelle et élémentaire). Ces variables évoluent dans le même sens. \n",
    "\n",
    "Pour prolonger l'analyse, des spécifications particulières aux séries temporelles pourraient être envisagées. Notamment en décomposant le flux entrant, les naissances à N-3, et le flux sortant, les élèves ayant 12 ans et plus passant automatiquement au collège. Il serait alors nécessaire d'augmenter le champ temporel de l'étude au-delà de l'année juste antérieure à la crise sanitaire.\n",
    "\n",
    "Notre intuition est que les arrondissements du Nord-Est parisien, la ville de Pantin et de Montreuil devraient être les destinations privilégiées des familles quittant la capitale. Pour s'en assurer il faudrait étendre l'analyse en statistique descriptive aux départements et communes limitrophes de Paris en utilisant notamment la base des mobilités scolaires du recensement."
   ]
  }
 ],
 "metadata": {
  "kernelspec": {
   "display_name": "base",
   "language": "python",
   "name": "python3"
  },
  "language_info": {
   "codemirror_mode": {
    "name": "ipython",
    "version": 3
   },
   "file_extension": ".py",
   "mimetype": "text/x-python",
   "name": "python",
   "nbconvert_exporter": "python",
   "pygments_lexer": "ipython3",
   "version": "3.12.7"
  }
 },
 "nbformat": 4,
 "nbformat_minor": 2
}
